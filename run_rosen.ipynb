{
 "cells": [
  {
   "cell_type": "code",
   "execution_count": 10,
   "metadata": {},
   "outputs": [],
   "source": [
    "from class_definition import *\n",
    "import functions\n",
    "import optSolver\n",
    "import numpy as np"
   ]
  },
  {
   "cell_type": "markdown",
   "metadata": {},
   "source": [
    "## Rosenbrock 2"
   ]
  },
  {
   "cell_type": "code",
   "execution_count": 15,
   "metadata": {},
   "outputs": [],
   "source": [
    "problem_1 = Problem(name=\"Rosenbrock2\", x0=np.array([-1.2, 1.]).reshape(-1,1),\n",
    "                    compute_f=functions.rosen_2_func, compute_g=functions.rosen_2_grad, compute_H=functions.rosen_2_Hess)\n",
    "GD_method = Method(name=\"BFGS\", step_type=\"wolfe\")\n",
    "options = Options()"
   ]
  },
  {
   "cell_type": "code",
   "execution_count": 16,
   "metadata": {},
   "outputs": [
    {
     "name": "stdout",
     "output_type": "stream",
     "text": [
      "Final function value achieved: 1.8660377562064576e-13\n",
      "CPU time used: 0.005436899955384433\n"
     ]
    }
   ],
   "source": [
    "x, f, k, cpu_times, f_values, norm_g_values = optSolver.optSolver(problem_1, GD_method, options)\n",
    "print(f'Final function value achieved: {f}')\n",
    "print(f'CPU time used: {cpu_times[-1]}')"
   ]
  },
  {
   "cell_type": "markdown",
   "metadata": {},
   "source": [
    "## Rosenbrock 100"
   ]
  },
  {
   "cell_type": "code",
   "execution_count": 8,
   "metadata": {},
   "outputs": [],
   "source": [
    "problem_2 = Problem(name=\"Rosenbrock100\", \n",
    "                    x0=np.array([-1.2] + [1.]*99).reshape(-1,1),\n",
    "                    compute_f=functions.Rosenbrock_100_func, \n",
    "                    compute_g=functions.Rosenbrock_100_grad, \n",
    "                    compute_H=functions.Rosenbrock_100_Hess)\n",
    "GD_method = Method(name=\"GradientDescent\", step_type=\"wolfe\")\n",
    "options = Options()"
   ]
  },
  {
   "cell_type": "code",
   "execution_count": 14,
   "metadata": {},
   "outputs": [
    {
     "name": "stdout",
     "output_type": "stream",
     "text": [
      "Final function value achieved: 1.530097793017051e-11\n",
      "CPU time used: 0.00850600004196167\n"
     ]
    }
   ],
   "source": [
    "x, f, k, cpu_times, f_values, norm_g_values = optSolver.optSolver(problem_2, GD_method, options)\n",
    "print(f'Final function value achieved: {f}')\n",
    "print(f'CPU time used: {cpu_times[-1]}')"
   ]
  }
 ],
 "metadata": {
  "kernelspec": {
   "display_name": "Python 3",
   "language": "python",
   "name": "python3"
  },
  "language_info": {
   "codemirror_mode": {
    "name": "ipython",
    "version": 3
   },
   "file_extension": ".py",
   "mimetype": "text/x-python",
   "name": "python",
   "nbconvert_exporter": "python",
   "pygments_lexer": "ipython3",
   "version": "3.12.1"
  }
 },
 "nbformat": 4,
 "nbformat_minor": 2
}
