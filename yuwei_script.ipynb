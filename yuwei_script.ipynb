{
 "cells": [
  {
   "cell_type": "code",
   "execution_count": 8,
   "metadata": {},
   "outputs": [],
   "source": [
    "from class_definition import *\n",
    "import functions \n",
    "import optSolver\n",
    "import numpy as np\n",
    "import math"
   ]
  },
  {
   "cell_type": "code",
   "execution_count": 9,
   "metadata": {},
   "outputs": [],
   "source": [
    "def performance_profile(method: Method, options: Options):\n",
    "    # input: method, options\n",
    "    # get the performance profile of the method on the given metric\n",
    "    # metric: 'iteration', 'time', 'f_eval', 'g_eval'\n",
    "    # output: 4 txt files\n",
    "    np.random.seed(0)\n",
    "    x0_1 = 20*np.random.rand(10,1)-10\n",
    "    problem1 = Problem('P1_quad_10_10', x0=x0_1, \n",
    "                   compute_f=functions.quad_10_10_func, compute_g=functions.quad_10_10_grad, compute_H=functions.quad_10_10_Hess)\n",
    "    problem2 = Problem('P2_quad_10_1000', x0=x0_1, \n",
    "                   compute_f=functions.quad_10_1000_func, compute_g=functions.quad_10_1000_grad, compute_H=functions.quad_10_1000_Hess)\n",
    "    np.random.seed(0)\n",
    "    x0_2 = 20*np.random.rand(1000,1)-10\n",
    "    problem3 = Problem('P3_quad_1000_10', x0=x0_2, \n",
    "                   compute_f=functions.quad_1000_10_func, compute_g=functions.quad_1000_10_grad, compute_H=functions.quad_1000_10_Hess)\n",
    "    problem4 = Problem('P4_quad_1000_1000', x0=x0_2, \n",
    "                   compute_f=functions.quad_1000_1000_func, compute_g=functions.quad_1000_1000_grad, compute_H=functions.quad_1000_1000_Hess)\n",
    "    problem5 = Problem('P5_quartic_1', x0=np.array([math.cos(70),math.sin(70),math.cos(70),math.sin(70)]).reshape(-1,1), \n",
    "                   compute_f=functions.quartic_1_func, compute_g=functions.quartic_1_grad, compute_H=functions.quartic_1_Hess)\n",
    "    problem6 = Problem('P6_quartic_2', x0=np.array([math.cos(70),math.sin(70),math.cos(70),math.sin(70)]).reshape(-1,1), \n",
    "                   compute_f=functions.quartic_2_func, compute_g=functions.quartic_2_grad, compute_H=functions.quartic_2_Hess)\n",
    "    problem7 = Problem('P7_rosenbrock_2', x0=np.array([-1.2, 1.]).reshape(-1,1), \n",
    "                   compute_f=functions.rosen_2_func, compute_g=functions.rosen_2_grad, compute_H=functions.rosen_2_Hess)\n",
    "    problem8 = Problem('P8_rosenbrock_100', x0=np.array([-1.2] + [1.]*99).reshape(-1,1),\n",
    "                     compute_f=functions.Rosenbrock_100_func, compute_g=functions.Rosenbrock_100_grad, compute_H=functions.Rosenbrock_100_Hess)\n",
    "    problem9 = Problem('P9_DataFit_2', x0=np.array([1.,1.]).reshape(-1,1),\n",
    "                        compute_f=functions.DataFit_2_func, compute_g=functions.DataFit_2_grad, compute_H=functions.DataFit_2_Hess)\n",
    "    problem10 = Problem('P10_Exponential_10', x0=np.array([1.] + [.0]*9).reshape(-1,1),\n",
    "                        compute_f=functions.Exponential_func, compute_g=functions.Exponential_grad, compute_H=functions.Exponential_Hess)\n",
    "    problem11 = Problem('P11_Exponential_100', x0=np.array([1.] + [.0]*99).reshape(-1,1),\n",
    "                        compute_f=functions.Exponential_func, compute_g=functions.Exponential_grad, compute_H=functions.Exponential_Hess)\n",
    "    problem12 = Problem('P12_Genhumps_5', x0=np.array([-506.2]+[506.2]*4).reshape(-1,1),\n",
    "                        compute_f=functions.genhumps_5_func, compute_g=functions.genhumps_5_grad, compute_H=functions.genhumps_5_Hess)\n",
    "        \n",
    "    problems = [problem1, problem2, problem3, problem4, problem5, problem6, problem7, problem8, problem9, problem10, problem11, problem12]\n",
    "    \n",
    "    # restore the performance profile\n",
    "    f_list = []\n",
    "    iteration_list = []\n",
    "    f_eval_list = []\n",
    "    g_eval_list = []\n",
    "    time_list = []\n",
    "    for problem in problems:\n",
    "        _, f, K, cpu_times = optSolver.optSolver(problem, method, options)\n",
    "        iteration_list.append(K)\n",
    "        f_list.append(f)\n",
    "        time_list.append(cpu_times[-1])\n",
    "        f_eval_list.append(problem.f_eval)\n",
    "        g_eval_list.append(problem.g_eval)\n",
    "\n",
    "    profile = open(f'./profiles/profile_{method.name}_{method.step_type}.txt', 'w')\n",
    "    print('Writing profile')\n",
    "    for i in range(len(problems)):\n",
    "        profile.write(problems[i].name+'\\t')\n",
    "        profile.write(str(iteration_list[i])+'\\t')\n",
    "        profile.write(str(f_eval_list[i])+'\\t')\n",
    "        profile.write(str(g_eval_list[i])+'\\t')\n",
    "        profile.write(str(time_list[i])+'\\t')\n",
    "        profile.write(str(f_list[i])+'\\n')\n",
    "    profile.close()\n",
    "\n",
    "    return"
   ]
  },
  {
   "cell_type": "code",
   "execution_count": null,
   "metadata": {},
   "outputs": [],
   "source": []
  },
  {
   "cell_type": "code",
   "execution_count": 10,
   "metadata": {},
   "outputs": [
    {
     "name": "stdout",
     "output_type": "stream",
     "text": [
      "Writing profile\n"
     ]
    }
   ],
   "source": [
    "method1 = Method('Newton',step_type='wolfe')\n",
    "option1 = Options()\n",
    "performance_profile(method1, option1)"
   ]
  },
  {
   "cell_type": "code",
   "execution_count": 11,
   "metadata": {},
   "outputs": [
    {
     "name": "stdout",
     "output_type": "stream",
     "text": [
      "Writing profile\n"
     ]
    }
   ],
   "source": [
    "method1 = Method('Newton',step_type='backtracking')\n",
    "option1 = Options()\n",
    "performance_profile(method1, option1)"
   ]
  },
  {
   "cell_type": "code",
   "execution_count": 12,
   "metadata": {},
   "outputs": [
    {
     "name": "stdout",
     "output_type": "stream",
     "text": [
      "Writing profile\n"
     ]
    }
   ],
   "source": [
    "method1 = Method('GradientDescent',step_type='wolfe')\n",
    "option1 = Options()\n",
    "performance_profile(method1, option1)"
   ]
  },
  {
   "cell_type": "code",
   "execution_count": 13,
   "metadata": {},
   "outputs": [
    {
     "name": "stdout",
     "output_type": "stream",
     "text": [
      "Writing profile\n"
     ]
    }
   ],
   "source": [
    "method1 = Method('GradientDescent',step_type='backtracking')\n",
    "option1 = Options()\n",
    "performance_profile(method1, option1)"
   ]
  }
 ],
 "metadata": {
  "kernelspec": {
   "display_name": "base",
   "language": "python",
   "name": "python3"
  },
  "language_info": {
   "codemirror_mode": {
    "name": "ipython",
    "version": 3
   },
   "file_extension": ".py",
   "mimetype": "text/x-python",
   "name": "python",
   "nbconvert_exporter": "python",
   "pygments_lexer": "ipython3",
   "version": "3.11.5"
  }
 },
 "nbformat": 4,
 "nbformat_minor": 2
}
