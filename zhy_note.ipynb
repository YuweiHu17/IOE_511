{
 "cells": [
  {
   "cell_type": "code",
   "execution_count": 35,
   "metadata": {},
   "outputs": [],
   "source": [
    "from class_definition import *\n",
    "import algorithms\n",
    "import functions\n",
    "import optSolver\n",
    "import performance_profile"
   ]
  },
  {
   "cell_type": "code",
   "execution_count": 2,
   "metadata": {},
   "outputs": [],
   "source": [
    "import numpy as np"
   ]
  },
  {
   "cell_type": "markdown",
   "metadata": {},
   "source": [
    "## Rosenbrock"
   ]
  },
  {
   "cell_type": "code",
   "execution_count": 12,
   "metadata": {},
   "outputs": [],
   "source": [
    "problem1 = Problem('P7_rosenbrock_2', x0=np.array([-1.2, 1.]).reshape(-1,1), \n",
    "                   compute_f=functions.rosen_2_func, compute_g=functions.rosen_2_grad, compute_H=functions.rosen_2_Hess)"
   ]
  },
  {
   "cell_type": "code",
   "execution_count": 13,
   "metadata": {},
   "outputs": [
    {
     "name": "stdout",
     "output_type": "stream",
     "text": [
      "8.622957919030559e-15\n"
     ]
    }
   ],
   "source": [
    "method = Method('TRNewtonCG', step_type='backtracking')\n",
    "options = Options()\n",
    "x, f, K, cpu_times  = optSolver.optSolver(problem1, method, options)\n",
    "print(f)"
   ]
  },
  {
   "cell_type": "code",
   "execution_count": 14,
   "metadata": {},
   "outputs": [
    {
     "name": "stdout",
     "output_type": "stream",
     "text": [
      "8.517074972119026e-12\n"
     ]
    }
   ],
   "source": [
    "method = Method('Newton', step_type='backtracking')\n",
    "options = Options()\n",
    "x, f, K, cpu_times  = optSolver.optSolver(problem1, method, options)\n",
    "print(f)"
   ]
  },
  {
   "cell_type": "code",
   "execution_count": 15,
   "metadata": {},
   "outputs": [
    {
     "name": "stdout",
     "output_type": "stream",
     "text": [
      "8.517074972119026e-12\n"
     ]
    }
   ],
   "source": [
    "method = Method('Newton', step_type='wolfe')\n",
    "options = Options()\n",
    "x, f, K, cpu_times  = optSolver.optSolver(problem1, method, options)\n",
    "print(f)"
   ]
  },
  {
   "cell_type": "code",
   "execution_count": 18,
   "metadata": {},
   "outputs": [
    {
     "name": "stdout",
     "output_type": "stream",
     "text": [
      "8.517074935211368e-12\n"
     ]
    }
   ],
   "source": [
    "method = Method('Modified Newton', step_type='backtracking')\n",
    "options = Options()\n",
    "x, f, K, cpu_times  = optSolver.optSolver(problem1, method, options)\n",
    "print(f)"
   ]
  },
  {
   "cell_type": "code",
   "execution_count": 19,
   "metadata": {},
   "outputs": [
    {
     "name": "stdout",
     "output_type": "stream",
     "text": [
      "8.517074935211368e-12\n"
     ]
    }
   ],
   "source": [
    "method = Method('Modified Newton', step_type='wolfe')\n",
    "options = Options()\n",
    "x, f, K, cpu_times  = optSolver.optSolver(problem1, method, options)\n",
    "print(f)"
   ]
  },
  {
   "cell_type": "code",
   "execution_count": 20,
   "metadata": {},
   "outputs": [
    {
     "name": "stdout",
     "output_type": "stream",
     "text": [
      "0.0007484247354816198\n"
     ]
    }
   ],
   "source": [
    "method = Method('GradientDescent', step_type='backtracking')\n",
    "options = Options()\n",
    "x, f, K, cpu_times  = optSolver.optSolver(problem1, method, options)\n",
    "print(f)"
   ]
  },
  {
   "cell_type": "code",
   "execution_count": 21,
   "metadata": {},
   "outputs": [
    {
     "name": "stdout",
     "output_type": "stream",
     "text": [
      "0.0003370797949820805\n"
     ]
    }
   ],
   "source": [
    "method = Method('GradientDescent', step_type='wolfe')\n",
    "options = Options()\n",
    "x, f, K, cpu_times  = optSolver.optSolver(problem1, method, options)\n",
    "print(f)"
   ]
  },
  {
   "cell_type": "code",
   "execution_count": 22,
   "metadata": {},
   "outputs": [
    {
     "name": "stdout",
     "output_type": "stream",
     "text": [
      "1.1624524440804088e-11\n"
     ]
    }
   ],
   "source": [
    "method = Method('TRSR1CG')\n",
    "options = Options()\n",
    "x, f, K, cpu_times  = optSolver.optSolver(problem1, method, options)\n",
    "print(f)"
   ]
  },
  {
   "cell_type": "code",
   "execution_count": 24,
   "metadata": {},
   "outputs": [
    {
     "name": "stdout",
     "output_type": "stream",
     "text": [
      "1.8660377562064576e-13\n"
     ]
    }
   ],
   "source": [
    "method = Method('BFGS', step_type='backtracking')\n",
    "options = Options(H0=np.eye(2))\n",
    "x, f, K, cpu_times  = optSolver.optSolver(problem1, method, options)\n",
    "print(f)"
   ]
  },
  {
   "cell_type": "code",
   "execution_count": 37,
   "metadata": {},
   "outputs": [
    {
     "name": "stdout",
     "output_type": "stream",
     "text": [
      "1.8660377562064576e-13\n"
     ]
    }
   ],
   "source": [
    "method = Method('BFGS', step_type='wolfe')\n",
    "options = Options()\n",
    "x, f, K, cpu_times  = optSolver.optSolver(problem1, method, options)\n",
    "print(f)"
   ]
  },
  {
   "cell_type": "code",
   "execution_count": 31,
   "metadata": {},
   "outputs": [
    {
     "name": "stdout",
     "output_type": "stream",
     "text": [
      "2.776466656851376e-13\n"
     ]
    }
   ],
   "source": [
    "method = Method('DFP', step_type='backtracking')\n",
    "options = Options(H0=np.eye(2))\n",
    "x, f, K, cpu_times  = optSolver.optSolver(problem1, method, options)\n",
    "print(f)"
   ]
  },
  {
   "cell_type": "code",
   "execution_count": 32,
   "metadata": {},
   "outputs": [
    {
     "name": "stdout",
     "output_type": "stream",
     "text": [
      "1.2020676817241244e-05\n"
     ]
    }
   ],
   "source": [
    "method = Method('DFP', step_type='wolfe')\n",
    "options = Options(H0=np.eye(2))\n",
    "x, f, K, cpu_times  = optSolver.optSolver(problem1, method, options)\n",
    "print(f)"
   ]
  },
  {
   "cell_type": "code",
   "execution_count": 33,
   "metadata": {},
   "outputs": [
    {
     "name": "stdout",
     "output_type": "stream",
     "text": [
      "9.906757879937071e-14\n"
     ]
    }
   ],
   "source": [
    "method = Method('L-BFGS', step_type='backtracking')\n",
    "options = Options(H0=np.eye(2))\n",
    "x, f, K, cpu_times  = optSolver.optSolver(problem1, method, options)\n",
    "print(f)"
   ]
  },
  {
   "cell_type": "code",
   "execution_count": 34,
   "metadata": {},
   "outputs": [
    {
     "name": "stdout",
     "output_type": "stream",
     "text": [
      "1.9200690416642386e-11\n"
     ]
    }
   ],
   "source": [
    "method = Method('L-BFGS', step_type='wolfe')\n",
    "options = Options(H0=np.eye(2))\n",
    "x, f, K, cpu_times  = optSolver.optSolver(problem1, method, options)\n",
    "print(f)"
   ]
  },
  {
   "cell_type": "markdown",
   "metadata": {},
   "source": [
    "## Performance profile"
   ]
  },
  {
   "cell_type": "code",
   "execution_count": 40,
   "metadata": {},
   "outputs": [
    {
     "name": "stdout",
     "output_type": "stream",
     "text": [
      "Writing profile\n"
     ]
    }
   ],
   "source": [
    "method = Method('BFGS', step_type='backtracking')\n",
    "options = Options()\n",
    "performance_profile.performance_profile(method, options)"
   ]
  },
  {
   "cell_type": "code",
   "execution_count": 39,
   "metadata": {},
   "outputs": [
    {
     "name": "stdout",
     "output_type": "stream",
     "text": [
      "Writing profile\n"
     ]
    }
   ],
   "source": [
    "method = Method('BFGS', step_type='wolfe')\n",
    "options = Options()\n",
    "performance_profile.performance_profile(method, options)"
   ]
  },
  {
   "cell_type": "code",
   "execution_count": 41,
   "metadata": {},
   "outputs": [
    {
     "name": "stdout",
     "output_type": "stream",
     "text": [
      "Writing profile\n"
     ]
    }
   ],
   "source": [
    "method = Method('DFP', step_type='backtracking')\n",
    "options = Options()\n",
    "performance_profile.performance_profile(method, options)"
   ]
  },
  {
   "cell_type": "code",
   "execution_count": 42,
   "metadata": {},
   "outputs": [
    {
     "name": "stdout",
     "output_type": "stream",
     "text": [
      "Writing profile\n"
     ]
    }
   ],
   "source": [
    "method = Method('DFP', step_type='wolfe')\n",
    "options = Options()\n",
    "performance_profile.performance_profile(method, options)"
   ]
  }
 ],
 "metadata": {
  "kernelspec": {
   "display_name": "Python 3",
   "language": "python",
   "name": "python3"
  },
  "language_info": {
   "codemirror_mode": {
    "name": "ipython",
    "version": 3
   },
   "file_extension": ".py",
   "mimetype": "text/x-python",
   "name": "python",
   "nbconvert_exporter": "python",
   "pygments_lexer": "ipython3",
   "version": "3.12.1"
  }
 },
 "nbformat": 4,
 "nbformat_minor": 2
}
